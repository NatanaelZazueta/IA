{
 "cells": [
  {
   "cell_type": "code",
   "execution_count": null,
   "metadata": {
    "_cell_guid": "b1076dfc-b9ad-4769-8c92-a6c4dae69d19",
    "_uuid": "8f2839f25d086af736a60e9eeb907d3b93b6e0e5",
    "execution": {
     "iopub.execute_input": "2025-05-30T06:45:19.787240Z",
     "iopub.status.busy": "2025-05-30T06:45:19.786659Z",
     "iopub.status.idle": "2025-05-30T06:45:22.647539Z",
     "shell.execute_reply": "2025-05-30T06:45:22.646684Z",
     "shell.execute_reply.started": "2025-05-30T06:45:19.787216Z"
    },
    "trusted": true
   },
   "outputs": [
    {
     "name": "stdout",
     "output_type": "stream",
     "text": [
      "Found 28709 images belonging to 7 classes.\n",
      "Clases detectadas: {'angry': 0, 'disgust': 1, 'fear': 2, 'happy': 3, 'neutral': 4, 'sad': 5, 'surprise': 6}\n"
     ]
    }
   ],
   "source": [
    "import tensorflow as tf\n",
    "from tensorflow.keras.preprocessing.image import ImageDataGenerator\n",
    "\n",
    "train_datagen = ImageDataGenerator(\n",
    "    rescale=1./255,                 \n",
    "    rotation_range=20,            \n",
    "    brightness_range=(0.8, 1.2),   \n",
    "    zoom_range=0.1,               \n",
    "    horizontal_flip=True,          \n",
    "    fill_mode='nearest',            \n",
    ")\n",
    "\n",
    "train_dir = \"/kaggle/input/fer2013/train\"\n",
    "\n",
    "train_generator = train_datagen.flow_from_directory(\n",
    "    train_dir,\n",
    "    target_size=(128, 128),         \n",
    "    batch_size=32,\n",
    "    class_mode='categorical',                  \n",
    "    shuffle=True\n",
    ")\n",
    "\n",
    "print(\"Clases detectadas:\", train_generator.class_indices)\n"
   ]
  }
 ],
 "metadata": {
  "kaggle": {
   "accelerator": "none",
   "dataSources": [
    {
     "datasetId": 786787,
     "sourceId": 1351797,
     "sourceType": "datasetVersion"
    }
   ],
   "dockerImageVersionId": 31040,
   "isGpuEnabled": false,
   "isInternetEnabled": false,
   "language": "python",
   "sourceType": "notebook"
  },
  "kernelspec": {
   "display_name": "Python 3",
   "language": "python",
   "name": "python3"
  },
  "language_info": {
   "codemirror_mode": {
    "name": "ipython",
    "version": 3
   },
   "file_extension": ".py",
   "mimetype": "text/x-python",
   "name": "python",
   "nbconvert_exporter": "python",
   "pygments_lexer": "ipython3",
   "version": "3.11.11"
  }
 },
 "nbformat": 4,
 "nbformat_minor": 4
}
